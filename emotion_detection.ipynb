{
  "nbformat": 4,
  "nbformat_minor": 0,
  "metadata": {
    "colab": {
      "provenance": [],
      "gpuType": "T4",
      "mount_file_id": "183GsffJ6FsuZVxb43QdkqNCrhsLE08J5",
      "authorship_tag": "ABX9TyOq7u+5OrUR/e3ISMLXXmZU",
      "include_colab_link": true
    },
    "kernelspec": {
      "name": "python3",
      "display_name": "Python 3"
    },
    "language_info": {
      "name": "python"
    },
    "accelerator": "GPU"
  },
  "cells": [
    {
      "cell_type": "markdown",
      "metadata": {
        "id": "view-in-github",
        "colab_type": "text"
      },
      "source": [
        "<a href=\"https://colab.research.google.com/github/Alimv81/emotion_detection_FER2012/blob/main/emotion_detection.ipynb\" target=\"_parent\"><img src=\"https://colab.research.google.com/assets/colab-badge.svg\" alt=\"Open In Colab\"/></a>"
      ]
    },
    {
      "cell_type": "code",
      "source": [
        "import os\n",
        "import cv2\n",
        "import numpy as np\n",
        "import pandas as pd\n",
        "import albumentations as alb\n",
        "import matplotlib.pyplot as plt\n",
        "import tensorflow as tf"
      ],
      "metadata": {
        "id": "T3ywSINrN6qJ"
      },
      "execution_count": 1,
      "outputs": []
    },
    {
      "cell_type": "code",
      "source": [
        "gpu = tf.config.list_physical_devices('GPU')\n",
        "tf.config.experimental.set_memory_growth(gpu[0], True)"
      ],
      "metadata": {
        "id": "ocYtyE15gXk8"
      },
      "execution_count": 2,
      "outputs": []
    },
    {
      "cell_type": "code",
      "source": [
        "url = \"https://huggingface.co/spaces/mxz/emtion/resolve/c697775e0adc35a9cec32bd4d3484b5f5a263748/fer2013.csv\"\n",
        "df = pd.read_csv(url)"
      ],
      "metadata": {
        "id": "0zz3bH5oOwsv"
      },
      "execution_count": 3,
      "outputs": []
    },
    {
      "cell_type": "code",
      "source": [
        "df.head()"
      ],
      "metadata": {
        "colab": {
          "base_uri": "https://localhost:8080/",
          "height": 206
        },
        "id": "9vDDEYUOPuAQ",
        "outputId": "7bf807ce-88fa-4fde-bb50-e89c10fafa9d"
      },
      "execution_count": 4,
      "outputs": [
        {
          "output_type": "execute_result",
          "data": {
            "text/plain": [
              "   emotion                                             pixels     Usage\n",
              "0        0  70 80 82 72 58 58 60 63 54 58 60 48 89 115 121...  Training\n",
              "1        0  151 150 147 155 148 133 111 140 170 174 182 15...  Training\n",
              "2        2  231 212 156 164 174 138 161 173 182 200 106 38...  Training\n",
              "3        4  24 32 36 30 32 23 19 20 30 41 21 22 32 34 21 1...  Training\n",
              "4        6  4 0 0 0 0 0 0 0 0 0 0 0 3 15 23 28 48 50 58 84...  Training"
            ],
            "text/html": [
              "\n",
              "  <div id=\"df-36ff4f98-8587-412a-8e15-754b27858283\" class=\"colab-df-container\">\n",
              "    <div>\n",
              "<style scoped>\n",
              "    .dataframe tbody tr th:only-of-type {\n",
              "        vertical-align: middle;\n",
              "    }\n",
              "\n",
              "    .dataframe tbody tr th {\n",
              "        vertical-align: top;\n",
              "    }\n",
              "\n",
              "    .dataframe thead th {\n",
              "        text-align: right;\n",
              "    }\n",
              "</style>\n",
              "<table border=\"1\" class=\"dataframe\">\n",
              "  <thead>\n",
              "    <tr style=\"text-align: right;\">\n",
              "      <th></th>\n",
              "      <th>emotion</th>\n",
              "      <th>pixels</th>\n",
              "      <th>Usage</th>\n",
              "    </tr>\n",
              "  </thead>\n",
              "  <tbody>\n",
              "    <tr>\n",
              "      <th>0</th>\n",
              "      <td>0</td>\n",
              "      <td>70 80 82 72 58 58 60 63 54 58 60 48 89 115 121...</td>\n",
              "      <td>Training</td>\n",
              "    </tr>\n",
              "    <tr>\n",
              "      <th>1</th>\n",
              "      <td>0</td>\n",
              "      <td>151 150 147 155 148 133 111 140 170 174 182 15...</td>\n",
              "      <td>Training</td>\n",
              "    </tr>\n",
              "    <tr>\n",
              "      <th>2</th>\n",
              "      <td>2</td>\n",
              "      <td>231 212 156 164 174 138 161 173 182 200 106 38...</td>\n",
              "      <td>Training</td>\n",
              "    </tr>\n",
              "    <tr>\n",
              "      <th>3</th>\n",
              "      <td>4</td>\n",
              "      <td>24 32 36 30 32 23 19 20 30 41 21 22 32 34 21 1...</td>\n",
              "      <td>Training</td>\n",
              "    </tr>\n",
              "    <tr>\n",
              "      <th>4</th>\n",
              "      <td>6</td>\n",
              "      <td>4 0 0 0 0 0 0 0 0 0 0 0 3 15 23 28 48 50 58 84...</td>\n",
              "      <td>Training</td>\n",
              "    </tr>\n",
              "  </tbody>\n",
              "</table>\n",
              "</div>\n",
              "    <div class=\"colab-df-buttons\">\n",
              "\n",
              "  <div class=\"colab-df-container\">\n",
              "    <button class=\"colab-df-convert\" onclick=\"convertToInteractive('df-36ff4f98-8587-412a-8e15-754b27858283')\"\n",
              "            title=\"Convert this dataframe to an interactive table.\"\n",
              "            style=\"display:none;\">\n",
              "\n",
              "  <svg xmlns=\"http://www.w3.org/2000/svg\" height=\"24px\" viewBox=\"0 -960 960 960\">\n",
              "    <path d=\"M120-120v-720h720v720H120Zm60-500h600v-160H180v160Zm220 220h160v-160H400v160Zm0 220h160v-160H400v160ZM180-400h160v-160H180v160Zm440 0h160v-160H620v160ZM180-180h160v-160H180v160Zm440 0h160v-160H620v160Z\"/>\n",
              "  </svg>\n",
              "    </button>\n",
              "\n",
              "  <style>\n",
              "    .colab-df-container {\n",
              "      display:flex;\n",
              "      gap: 12px;\n",
              "    }\n",
              "\n",
              "    .colab-df-convert {\n",
              "      background-color: #E8F0FE;\n",
              "      border: none;\n",
              "      border-radius: 50%;\n",
              "      cursor: pointer;\n",
              "      display: none;\n",
              "      fill: #1967D2;\n",
              "      height: 32px;\n",
              "      padding: 0 0 0 0;\n",
              "      width: 32px;\n",
              "    }\n",
              "\n",
              "    .colab-df-convert:hover {\n",
              "      background-color: #E2EBFA;\n",
              "      box-shadow: 0px 1px 2px rgba(60, 64, 67, 0.3), 0px 1px 3px 1px rgba(60, 64, 67, 0.15);\n",
              "      fill: #174EA6;\n",
              "    }\n",
              "\n",
              "    .colab-df-buttons div {\n",
              "      margin-bottom: 4px;\n",
              "    }\n",
              "\n",
              "    [theme=dark] .colab-df-convert {\n",
              "      background-color: #3B4455;\n",
              "      fill: #D2E3FC;\n",
              "    }\n",
              "\n",
              "    [theme=dark] .colab-df-convert:hover {\n",
              "      background-color: #434B5C;\n",
              "      box-shadow: 0px 1px 3px 1px rgba(0, 0, 0, 0.15);\n",
              "      filter: drop-shadow(0px 1px 2px rgba(0, 0, 0, 0.3));\n",
              "      fill: #FFFFFF;\n",
              "    }\n",
              "  </style>\n",
              "\n",
              "    <script>\n",
              "      const buttonEl =\n",
              "        document.querySelector('#df-36ff4f98-8587-412a-8e15-754b27858283 button.colab-df-convert');\n",
              "      buttonEl.style.display =\n",
              "        google.colab.kernel.accessAllowed ? 'block' : 'none';\n",
              "\n",
              "      async function convertToInteractive(key) {\n",
              "        const element = document.querySelector('#df-36ff4f98-8587-412a-8e15-754b27858283');\n",
              "        const dataTable =\n",
              "          await google.colab.kernel.invokeFunction('convertToInteractive',\n",
              "                                                    [key], {});\n",
              "        if (!dataTable) return;\n",
              "\n",
              "        const docLinkHtml = 'Like what you see? Visit the ' +\n",
              "          '<a target=\"_blank\" href=https://colab.research.google.com/notebooks/data_table.ipynb>data table notebook</a>'\n",
              "          + ' to learn more about interactive tables.';\n",
              "        element.innerHTML = '';\n",
              "        dataTable['output_type'] = 'display_data';\n",
              "        await google.colab.output.renderOutput(dataTable, element);\n",
              "        const docLink = document.createElement('div');\n",
              "        docLink.innerHTML = docLinkHtml;\n",
              "        element.appendChild(docLink);\n",
              "      }\n",
              "    </script>\n",
              "  </div>\n",
              "\n",
              "\n",
              "<div id=\"df-1b3decfc-f05f-4316-b569-6f9a33eefe35\">\n",
              "  <button class=\"colab-df-quickchart\" onclick=\"quickchart('df-1b3decfc-f05f-4316-b569-6f9a33eefe35')\"\n",
              "            title=\"Suggest charts.\"\n",
              "            style=\"display:none;\">\n",
              "\n",
              "<svg xmlns=\"http://www.w3.org/2000/svg\" height=\"24px\"viewBox=\"0 0 24 24\"\n",
              "     width=\"24px\">\n",
              "    <g>\n",
              "        <path d=\"M19 3H5c-1.1 0-2 .9-2 2v14c0 1.1.9 2 2 2h14c1.1 0 2-.9 2-2V5c0-1.1-.9-2-2-2zM9 17H7v-7h2v7zm4 0h-2V7h2v10zm4 0h-2v-4h2v4z\"/>\n",
              "    </g>\n",
              "</svg>\n",
              "  </button>\n",
              "\n",
              "<style>\n",
              "  .colab-df-quickchart {\n",
              "    background-color: #E8F0FE;\n",
              "    border: none;\n",
              "    border-radius: 50%;\n",
              "    cursor: pointer;\n",
              "    display: none;\n",
              "    fill: #1967D2;\n",
              "    height: 32px;\n",
              "    padding: 0 0 0 0;\n",
              "    width: 32px;\n",
              "  }\n",
              "\n",
              "  .colab-df-quickchart:hover {\n",
              "    background-color: #E2EBFA;\n",
              "    box-shadow: 0px 1px 2px rgba(60, 64, 67, 0.3), 0px 1px 3px 1px rgba(60, 64, 67, 0.15);\n",
              "    fill: #174EA6;\n",
              "  }\n",
              "\n",
              "  [theme=dark] .colab-df-quickchart {\n",
              "    background-color: #3B4455;\n",
              "    fill: #D2E3FC;\n",
              "  }\n",
              "\n",
              "  [theme=dark] .colab-df-quickchart:hover {\n",
              "    background-color: #434B5C;\n",
              "    box-shadow: 0px 1px 3px 1px rgba(0, 0, 0, 0.15);\n",
              "    filter: drop-shadow(0px 1px 2px rgba(0, 0, 0, 0.3));\n",
              "    fill: #FFFFFF;\n",
              "  }\n",
              "</style>\n",
              "\n",
              "  <script>\n",
              "    async function quickchart(key) {\n",
              "      const charts = await google.colab.kernel.invokeFunction(\n",
              "          'suggestCharts', [key], {});\n",
              "    }\n",
              "    (() => {\n",
              "      let quickchartButtonEl =\n",
              "        document.querySelector('#df-1b3decfc-f05f-4316-b569-6f9a33eefe35 button');\n",
              "      quickchartButtonEl.style.display =\n",
              "        google.colab.kernel.accessAllowed ? 'block' : 'none';\n",
              "    })();\n",
              "  </script>\n",
              "</div>\n",
              "    </div>\n",
              "  </div>\n"
            ]
          },
          "metadata": {},
          "execution_count": 4
        }
      ]
    },
    {
      "cell_type": "code",
      "source": [
        "df['Usage'].value_counts()"
      ],
      "metadata": {
        "colab": {
          "base_uri": "https://localhost:8080/"
        },
        "id": "SsnGB8EiP33c",
        "outputId": "7d06a57f-3351-43e5-fb6f-b06cd8713b86"
      },
      "execution_count": 5,
      "outputs": [
        {
          "output_type": "execute_result",
          "data": {
            "text/plain": [
              "Training       28709\n",
              "PublicTest      3589\n",
              "PrivateTest     3589\n",
              "Name: Usage, dtype: int64"
            ]
          },
          "metadata": {},
          "execution_count": 5
        }
      ]
    },
    {
      "cell_type": "code",
      "source": [
        "df_train = df[df['Usage']=='Training'].copy()\n",
        "df_test = df[df['Usage']=='PublicTest'].copy()\n",
        "df_valid = df[df['Usage']=='PrivateTest'].copy()"
      ],
      "metadata": {
        "id": "B7ZHmC8ETcNo"
      },
      "execution_count": 6,
      "outputs": []
    },
    {
      "cell_type": "code",
      "source": [
        "def split_data(data):\n",
        "  data['pixels'] = data['pixels'].apply(lambda pixel_sequence: [int(pixel) for pixel in pixel_sequence.split()])\n",
        "  images = np.array(data['pixels'].tolist(), dtype='float32').reshape(-1, 48, 48, 1) / 255.0\n",
        "  images = np.repeat(images, 3, axis=-1)\n",
        "  labels = data['emotion'].to_numpy()\n",
        "\n",
        "  return images, labels"
      ],
      "metadata": {
        "id": "s199bWsFchQy"
      },
      "execution_count": 7,
      "outputs": []
    },
    {
      "cell_type": "code",
      "source": [
        "train_data, train_labels = split_data(df_train)\n",
        "test_data, test_labels = split_data(df_test)\n",
        "validation_data, validation_labels = split_data(df_valid)"
      ],
      "metadata": {
        "id": "3QPVLbP1lZEi"
      },
      "execution_count": 8,
      "outputs": []
    },
    {
      "cell_type": "code",
      "source": [
        "datagen = tf.keras.preprocessing.image.ImageDataGenerator(\n",
        "    rotation_range=20,\n",
        "    width_shift_range=0.1,\n",
        "    height_shift_range=0.1,\n",
        "    horizontal_flip=True\n",
        ")"
      ],
      "metadata": {
        "id": "16X9sknu_3Qz"
      },
      "execution_count": 9,
      "outputs": []
    },
    {
      "cell_type": "code",
      "source": [
        "from tensorflow.keras.applications import VGG16\n",
        "\n",
        "\n",
        "base_model = VGG16(input_shape=(48, 48, 3), include_top=False, weights='imagenet')\n",
        "base_model.trainable = True"
      ],
      "metadata": {
        "id": "3pLk6nAwCJvn"
      },
      "execution_count": 14,
      "outputs": []
    },
    {
      "cell_type": "code",
      "source": [
        "from tensorflow.keras.layers import Dense, Conv2D, GlobalMaxPool2D, Flatten, Dropout, MaxPooling2D\n",
        "\n",
        "\n",
        "model = tf.keras.Sequential([\n",
        "    base_model,\n",
        "    GlobalMaxPool2D(),\n",
        "\n",
        "    Flatten(),\n",
        "    Dense(1024, activation='relu'),\n",
        "    Dropout(0.3),\n",
        "    Dense(128, activation='relu'),\n",
        "    Dense(7, activation='softmax')\n",
        "])"
      ],
      "metadata": {
        "id": "IgIjbeWno07s"
      },
      "execution_count": 18,
      "outputs": []
    },
    {
      "cell_type": "code",
      "source": [
        "optimizer = tf.keras.optimizers.Adam()\n",
        "loss = tf.keras.losses.SparseCategoricalCrossentropy()\n",
        "model.compile(optimizer=optimizer, loss=loss)"
      ],
      "metadata": {
        "id": "00o_TH81o25w"
      },
      "execution_count": 19,
      "outputs": []
    },
    {
      "cell_type": "code",
      "source": [
        "model.fit(datagen.flow(train_data, train_labels, batch_size=32),epochs=25,\n",
        "                    validation_data=(validation_data, validation_labels))"
      ],
      "metadata": {
        "id": "tD02lMknh-xc",
        "colab": {
          "base_uri": "https://localhost:8080/"
        },
        "outputId": "78784778-564d-4dca-8dfa-b2359a549292"
      },
      "execution_count": 20,
      "outputs": [
        {
          "output_type": "stream",
          "name": "stdout",
          "text": [
            "Epoch 1/25\n",
            "898/898 [==============================] - 63s 55ms/step - loss: 1.4989 - val_loss: 1.2380\n",
            "Epoch 2/25\n",
            "898/898 [==============================] - 43s 48ms/step - loss: 1.2518 - val_loss: 1.1272\n",
            "Epoch 3/25\n",
            "898/898 [==============================] - 44s 49ms/step - loss: 1.1649 - val_loss: 1.0749\n",
            "Epoch 4/25\n",
            "898/898 [==============================] - 46s 51ms/step - loss: 1.1054 - val_loss: 1.0930\n",
            "Epoch 5/25\n",
            "898/898 [==============================] - 47s 52ms/step - loss: 1.0651 - val_loss: 0.9965\n",
            "Epoch 6/25\n",
            "898/898 [==============================] - 45s 50ms/step - loss: 1.0321 - val_loss: 1.0155\n",
            "Epoch 7/25\n",
            "898/898 [==============================] - 43s 48ms/step - loss: 0.9986 - val_loss: 0.9792\n",
            "Epoch 8/25\n",
            "898/898 [==============================] - 44s 49ms/step - loss: 0.9713 - val_loss: 0.9884\n",
            "Epoch 9/25\n",
            "898/898 [==============================] - 46s 51ms/step - loss: 0.9421 - val_loss: 1.0124\n",
            "Epoch 10/25\n",
            "898/898 [==============================] - 45s 50ms/step - loss: 0.9208 - val_loss: 0.9755\n",
            "Epoch 11/25\n",
            "898/898 [==============================] - 45s 50ms/step - loss: 0.8957 - val_loss: 0.9339\n",
            "Epoch 12/25\n",
            "898/898 [==============================] - 44s 49ms/step - loss: 0.8798 - val_loss: 0.9730\n",
            "Epoch 13/25\n",
            "898/898 [==============================] - 43s 48ms/step - loss: 0.8569 - val_loss: 0.9219\n",
            "Epoch 14/25\n",
            "898/898 [==============================] - 45s 50ms/step - loss: 0.8342 - val_loss: 0.9510\n",
            "Epoch 15/25\n",
            "898/898 [==============================] - 44s 49ms/step - loss: 0.8122 - val_loss: 0.9365\n",
            "Epoch 16/25\n",
            "898/898 [==============================] - 43s 48ms/step - loss: 0.7959 - val_loss: 0.9257\n",
            "Epoch 17/25\n",
            "898/898 [==============================] - 45s 50ms/step - loss: 0.7685 - val_loss: 0.9292\n",
            "Epoch 18/25\n",
            "898/898 [==============================] - 44s 49ms/step - loss: 0.7526 - val_loss: 0.9210\n",
            "Epoch 19/25\n",
            "898/898 [==============================] - 43s 48ms/step - loss: 0.7248 - val_loss: 0.9424\n",
            "Epoch 20/25\n",
            "898/898 [==============================] - 45s 50ms/step - loss: 0.7065 - val_loss: 0.9301\n",
            "Epoch 21/25\n",
            "898/898 [==============================] - 43s 48ms/step - loss: 0.6869 - val_loss: 0.9542\n",
            "Epoch 22/25\n",
            "898/898 [==============================] - 44s 49ms/step - loss: 0.6691 - val_loss: 1.0010\n",
            "Epoch 23/25\n",
            "898/898 [==============================] - 44s 49ms/step - loss: 0.6585 - val_loss: 0.9345\n",
            "Epoch 24/25\n",
            "898/898 [==============================] - 44s 49ms/step - loss: 0.6295 - val_loss: 0.9201\n",
            "Epoch 25/25\n",
            "898/898 [==============================] - 51s 57ms/step - loss: 0.6096 - val_loss: 0.9574\n"
          ]
        },
        {
          "output_type": "execute_result",
          "data": {
            "text/plain": [
              "<keras.callbacks.History at 0x7a2b352beb00>"
            ]
          },
          "metadata": {},
          "execution_count": 20
        }
      ]
    },
    {
      "cell_type": "code",
      "source": [
        "emotion_map = {0: 'Angry', 1: 'Digust', 2: 'Fear', 3: 'Happy', 4: 'Sad', 5: 'Surprise', 6: 'Neutral'}"
      ],
      "metadata": {
        "id": "-PksoPtbw-cY"
      },
      "execution_count": 21,
      "outputs": []
    },
    {
      "cell_type": "code",
      "source": [
        "predy = model.predict(test_data)"
      ],
      "metadata": {
        "colab": {
          "base_uri": "https://localhost:8080/"
        },
        "id": "pn6uTh1DxVG-",
        "outputId": "dce78379-81df-4f3a-aa15-8635c32a1773"
      },
      "execution_count": 22,
      "outputs": [
        {
          "output_type": "stream",
          "name": "stdout",
          "text": [
            "113/113 [==============================] - 1s 11ms/step\n"
          ]
        }
      ]
    },
    {
      "cell_type": "code",
      "source": [
        "predy[0], np.argmax(predy[0])"
      ],
      "metadata": {
        "colab": {
          "base_uri": "https://localhost:8080/"
        },
        "id": "da4PGEd5sfGi",
        "outputId": "16595802-7b84-4c6f-df6b-34ae52e1c5b3"
      },
      "execution_count": 23,
      "outputs": [
        {
          "output_type": "execute_result",
          "data": {
            "text/plain": [
              "(array([1.3648156e-02, 5.8167050e-05, 2.5120007e-02, 6.6796809e-01,\n",
              "        5.6864686e-02, 1.0686505e-02, 2.2565445e-01], dtype=float32),\n",
              " 3)"
            ]
          },
          "metadata": {},
          "execution_count": 23
        }
      ]
    },
    {
      "cell_type": "code",
      "source": [
        "from sklearn.metrics import accuracy_score\n",
        "\n",
        "print(accuracy_score(test_labels, np.argmax(predy, axis=1)))"
      ],
      "metadata": {
        "id": "EDU7rjOtxxkE",
        "colab": {
          "base_uri": "https://localhost:8080/"
        },
        "outputId": "a6a90521-49b7-402e-e3db-9a2ec689d994"
      },
      "execution_count": 24,
      "outputs": [
        {
          "output_type": "stream",
          "name": "stdout",
          "text": [
            "0.6597938144329897\n"
          ]
        }
      ]
    },
    {
      "cell_type": "code",
      "source": [
        "idx = [12, 456, 1568, 3194]\n",
        "image_batch = test_data[idx]\n",
        "label_batch = test_labels[idx]\n",
        "label_batch_pred = np.argmax(predy[idx], axis=1)"
      ],
      "metadata": {
        "id": "Jlp1MGt-xKvL"
      },
      "execution_count": 25,
      "outputs": []
    },
    {
      "cell_type": "code",
      "source": [
        "fig, axes = plt.subplots(1, 4, figsize=(15, 5))\n",
        "\n",
        "for i, ax in enumerate(axes):\n",
        "    image = image_batch[i]\n",
        "    ax.imshow(image)\n",
        "    ax.set_title(f'true:{emotion_map[label_batch[i]]}, pred:{emotion_map[label_batch_pred[i]]}')\n",
        "    ax.axis('off')\n",
        "\n",
        "plt.tight_layout()\n",
        "plt.show()"
      ],
      "metadata": {
        "colab": {
          "base_uri": "https://localhost:8080/",
          "height": 415
        },
        "id": "3FpHWjtDtor4",
        "outputId": "9d84bccd-84f2-4e01-9865-28203d8716d9"
      },
      "execution_count": 26,
      "outputs": [
        {
          "output_type": "display_data",
          "data": {
            "text/plain": [
              "<Figure size 1500x500 with 4 Axes>"
            ],
            "image/png": "[encoded data removed]"
          },
          "metadata": {}
        }
      ]
    }
  ]
}